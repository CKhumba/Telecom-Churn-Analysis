{
  "nbformat": 4,
  "nbformat_minor": 0,
  "metadata": {
    "kernelspec": {
      "display_name": "Python 3",
      "language": "python",
      "name": "python3"
    },
    "language_info": {
      "codemirror_mode": {
        "name": "ipython",
        "version": 3
      },
      "file_extension": ".py",
      "mimetype": "text/x-python",
      "name": "python",
      "nbconvert_exporter": "python",
      "pygments_lexer": "ipython3",
      "version": "3.6.6"
    },
    "colab": {
      "name": "Telecom Churn Analysis - Capstone Project.ipynb",
      "provenance": [],
      "collapsed_sections": [],
      "include_colab_link": true
    }
  },
  "cells": [
    {
      "cell_type": "markdown",
      "metadata": {
        "id": "view-in-github",
        "colab_type": "text"
      },
      "source": [
        "<a href=\"https://colab.research.google.com/github/CKhumba/Telecom-Churn-Analysis/blob/main/Telecom_Churn_Analysis_Capstone_Project.ipynb\" target=\"_parent\"><img src=\"https://colab.research.google.com/assets/colab-badge.svg\" alt=\"Open In Colab\"/></a>"
      ]
    },
    {
      "cell_type": "markdown",
      "source": [
        "# <b> Problem Statement"
      ],
      "metadata": {
        "id": "V_BKm6EjvfYK"
      }
    },
    {
      "cell_type": "markdown",
      "metadata": {
        "id": "Y06xIdG26kRF"
      },
      "source": [
        "###  Orange S.A., formerly France Télécom S.A., is a French multinational telecommunications corporation. The Orange Telecom's Churn Dataset, consists of cleaned customer activity data (features), along with a churn label specifying whether a customer canceled the subscription.\n",
        "\n",
        "### The main objective is to explore and analyze the data to discover key factors responsible for customer churn and come up with ways/recommendations to ensure customer retention. "
      ]
    },
    {
      "cell_type": "markdown",
      "source": [
        "## <b> Exploratory Data Analysis \n",
        "\n",
        "Exploratory Data Analysis (EDA) is an approach used to analyse and investigate and understand the data sets and summerize their main charaacteristics,often employing data visualiztion.\n",
        "\n",
        "1. It can help identify obvious errors\n",
        "2. Help us  better understand patterns within the data\n",
        "3. Detect outliers or anomalous events\n",
        "4. Find interesting relations among the variables\n",
        "5. Examine the relationships among the variables\n",
        "\n"
      ],
      "metadata": {
        "id": "qjlyC981mjlj"
      }
    },
    {
      "cell_type": "markdown",
      "source": [
        "# <b> Work flow"
      ],
      "metadata": {
        "id": "fuhLmAUNnzF4"
      }
    },
    {
      "cell_type": "markdown",
      "source": [
        "1. Importing Libraries\n",
        "2. Loading the Dataset\n",
        "3. Understanding the Data\n",
        "4. EDA\n",
        "5. Conclusion"
      ],
      "metadata": {
        "id": "RCGvHTErxE5u"
      }
    },
    {
      "cell_type": "markdown",
      "source": [
        "# 1. Importing relevant libraries"
      ],
      "metadata": {
        "id": "W6GTBaIeI8R_"
      }
    },
    {
      "cell_type": "code",
      "source": [
        "from google.colab import drive\n",
        "drive.mount('/content/drive')"
      ],
      "metadata": {
        "colab": {
          "base_uri": "https://localhost:8080/"
        },
        "id": "h7N29KCaf_MM",
        "outputId": "7df8f504-641d-4d79-c944-3935c0fb3343"
      },
      "execution_count": null,
      "outputs": [
        {
          "output_type": "stream",
          "name": "stdout",
          "text": [
            "Mounted at /content/drive\n"
          ]
        }
      ]
    },
    {
      "cell_type": "code",
      "source": [
        "import pandas as pd\n",
        "import numpy as np\n",
        "import matplotlib.pyplot as plt\n",
        "%matplotlib inline\n",
        "import seaborn as sns"
      ],
      "metadata": {
        "id": "D_dP8a3bgkNN"
      },
      "execution_count": null,
      "outputs": []
    },
    {
      "cell_type": "markdown",
      "source": [
        "# 2. Loading the Dataset"
      ],
      "metadata": {
        "id": "YUxCfwxyzSFe"
      }
    },
    {
      "cell_type": "code",
      "metadata": {
        "id": "dByMsuzT8Tnw"
      },
      "source": [
        "file_path='/content/drive/MyDrive/AlmaBetter/Modules/EDA/PROJECT 1/DATA/Telecom Churn.csv'\n",
        "df=pd.read_csv(file_path)"
      ],
      "execution_count": null,
      "outputs": []
    },
    {
      "cell_type": "markdown",
      "source": [
        "# 3. Understanding More About The Data"
      ],
      "metadata": {
        "id": "3SKLmAyzj4w4"
      }
    },
    {
      "cell_type": "markdown",
      "source": [
        "As the data provided is already cleaned there is no need to for further data cleaning.\n",
        "\n",
        "So, now we will perform some inspection in order to get an idea of the provided data and figure out how to proceed with the analysis."
      ],
      "metadata": {
        "id": "5Omukv05TAwU"
      }
    },
    {
      "cell_type": "code",
      "source": [
        "print(\"The given input data is :\\n \")\n",
        "df"
      ],
      "metadata": {
        "colab": {
          "base_uri": "https://localhost:8080/",
          "height": 559
        },
        "id": "UcjFFcwXg9P7",
        "outputId": "f61b77f8-fe1d-4b2d-e9a6-470ddc99e31a"
      },
      "execution_count": null,
      "outputs": [
        {
          "output_type": "stream",
          "name": "stdout",
          "text": [
            "The given input data is :\n",
            " \n"
          ]
        },
        {
          "output_type": "execute_result",
          "data": {
            "text/plain": [
              "     State  Account length  Area code International plan Voice mail plan  \\\n",
              "0       KS             128        415                 No             Yes   \n",
              "1       OH             107        415                 No             Yes   \n",
              "2       NJ             137        415                 No              No   \n",
              "3       OH              84        408                Yes              No   \n",
              "4       OK              75        415                Yes              No   \n",
              "...    ...             ...        ...                ...             ...   \n",
              "3328    AZ             192        415                 No             Yes   \n",
              "3329    WV              68        415                 No              No   \n",
              "3330    RI              28        510                 No              No   \n",
              "3331    CT             184        510                Yes              No   \n",
              "3332    TN              74        415                 No             Yes   \n",
              "\n",
              "      Number vmail messages  Total day minutes  Total day calls  \\\n",
              "0                        25              265.1              110   \n",
              "1                        26              161.6              123   \n",
              "2                         0              243.4              114   \n",
              "3                         0              299.4               71   \n",
              "4                         0              166.7              113   \n",
              "...                     ...                ...              ...   \n",
              "3328                     36              156.2               77   \n",
              "3329                      0              231.1               57   \n",
              "3330                      0              180.8              109   \n",
              "3331                      0              213.8              105   \n",
              "3332                     25              234.4              113   \n",
              "\n",
              "      Total day charge  Total eve minutes  Total eve calls  Total eve charge  \\\n",
              "0                45.07              197.4               99             16.78   \n",
              "1                27.47              195.5              103             16.62   \n",
              "2                41.38              121.2              110             10.30   \n",
              "3                50.90               61.9               88              5.26   \n",
              "4                28.34              148.3              122             12.61   \n",
              "...                ...                ...              ...               ...   \n",
              "3328             26.55              215.5              126             18.32   \n",
              "3329             39.29              153.4               55             13.04   \n",
              "3330             30.74              288.8               58             24.55   \n",
              "3331             36.35              159.6               84             13.57   \n",
              "3332             39.85              265.9               82             22.60   \n",
              "\n",
              "      Total night minutes  Total night calls  Total night charge  \\\n",
              "0                   244.7                 91               11.01   \n",
              "1                   254.4                103               11.45   \n",
              "2                   162.6                104                7.32   \n",
              "3                   196.9                 89                8.86   \n",
              "4                   186.9                121                8.41   \n",
              "...                   ...                ...                 ...   \n",
              "3328                279.1                 83               12.56   \n",
              "3329                191.3                123                8.61   \n",
              "3330                191.9                 91                8.64   \n",
              "3331                139.2                137                6.26   \n",
              "3332                241.4                 77               10.86   \n",
              "\n",
              "      Total intl minutes  Total intl calls  Total intl charge  \\\n",
              "0                   10.0                 3               2.70   \n",
              "1                   13.7                 3               3.70   \n",
              "2                   12.2                 5               3.29   \n",
              "3                    6.6                 7               1.78   \n",
              "4                   10.1                 3               2.73   \n",
              "...                  ...               ...                ...   \n",
              "3328                 9.9                 6               2.67   \n",
              "3329                 9.6                 4               2.59   \n",
              "3330                14.1                 6               3.81   \n",
              "3331                 5.0                10               1.35   \n",
              "3332                13.7                 4               3.70   \n",
              "\n",
              "      Customer service calls  Churn  \n",
              "0                          1  False  \n",
              "1                          1  False  \n",
              "2                          0  False  \n",
              "3                          2  False  \n",
              "4                          3  False  \n",
              "...                      ...    ...  \n",
              "3328                       2  False  \n",
              "3329                       3  False  \n",
              "3330                       2  False  \n",
              "3331                       2  False  \n",
              "3332                       0  False  \n",
              "\n",
              "[3333 rows x 20 columns]"
            ],
            "text/html": [
              "\n",
              "  <div id=\"df-8120072a-9ac0-4d88-bd8a-7da38052df16\">\n",
              "    <div class=\"colab-df-container\">\n",
              "      <div>\n",
              "<style scoped>\n",
              "    .dataframe tbody tr th:only-of-type {\n",
              "        vertical-align: middle;\n",
              "    }\n",
              "\n",
              "    .dataframe tbody tr th {\n",
              "        vertical-align: top;\n",
              "    }\n",
              "\n",
              "    .dataframe thead th {\n",
              "        text-align: right;\n",
              "    }\n",
              "</style>\n",
              "<table border=\"1\" class=\"dataframe\">\n",
              "  <thead>\n",
              "    <tr style=\"text-align: right;\">\n",
              "      <th></th>\n",
              "      <th>State</th>\n",
              "      <th>Account length</th>\n",
              "      <th>Area code</th>\n",
              "      <th>International plan</th>\n",
              "      <th>Voice mail plan</th>\n",
              "      <th>Number vmail messages</th>\n",
              "      <th>Total day minutes</th>\n",
              "      <th>Total day calls</th>\n",
              "      <th>Total day charge</th>\n",
              "      <th>Total eve minutes</th>\n",
              "      <th>Total eve calls</th>\n",
              "      <th>Total eve charge</th>\n",
              "      <th>Total night minutes</th>\n",
              "      <th>Total night calls</th>\n",
              "      <th>Total night charge</th>\n",
              "      <th>Total intl minutes</th>\n",
              "      <th>Total intl calls</th>\n",
              "      <th>Total intl charge</th>\n",
              "      <th>Customer service calls</th>\n",
              "      <th>Churn</th>\n",
              "    </tr>\n",
              "  </thead>\n",
              "  <tbody>\n",
              "    <tr>\n",
              "      <th>0</th>\n",
              "      <td>KS</td>\n",
              "      <td>128</td>\n",
              "      <td>415</td>\n",
              "      <td>No</td>\n",
              "      <td>Yes</td>\n",
              "      <td>25</td>\n",
              "      <td>265.1</td>\n",
              "      <td>110</td>\n",
              "      <td>45.07</td>\n",
              "      <td>197.4</td>\n",
              "      <td>99</td>\n",
              "      <td>16.78</td>\n",
              "      <td>244.7</td>\n",
              "      <td>91</td>\n",
              "      <td>11.01</td>\n",
              "      <td>10.0</td>\n",
              "      <td>3</td>\n",
              "      <td>2.70</td>\n",
              "      <td>1</td>\n",
              "      <td>False</td>\n",
              "    </tr>\n",
              "    <tr>\n",
              "      <th>1</th>\n",
              "      <td>OH</td>\n",
              "      <td>107</td>\n",
              "      <td>415</td>\n",
              "      <td>No</td>\n",
              "      <td>Yes</td>\n",
              "      <td>26</td>\n",
              "      <td>161.6</td>\n",
              "      <td>123</td>\n",
              "      <td>27.47</td>\n",
              "      <td>195.5</td>\n",
              "      <td>103</td>\n",
              "      <td>16.62</td>\n",
              "      <td>254.4</td>\n",
              "      <td>103</td>\n",
              "      <td>11.45</td>\n",
              "      <td>13.7</td>\n",
              "      <td>3</td>\n",
              "      <td>3.70</td>\n",
              "      <td>1</td>\n",
              "      <td>False</td>\n",
              "    </tr>\n",
              "    <tr>\n",
              "      <th>2</th>\n",
              "      <td>NJ</td>\n",
              "      <td>137</td>\n",
              "      <td>415</td>\n",
              "      <td>No</td>\n",
              "      <td>No</td>\n",
              "      <td>0</td>\n",
              "      <td>243.4</td>\n",
              "      <td>114</td>\n",
              "      <td>41.38</td>\n",
              "      <td>121.2</td>\n",
              "      <td>110</td>\n",
              "      <td>10.30</td>\n",
              "      <td>162.6</td>\n",
              "      <td>104</td>\n",
              "      <td>7.32</td>\n",
              "      <td>12.2</td>\n",
              "      <td>5</td>\n",
              "      <td>3.29</td>\n",
              "      <td>0</td>\n",
              "      <td>False</td>\n",
              "    </tr>\n",
              "    <tr>\n",
              "      <th>3</th>\n",
              "      <td>OH</td>\n",
              "      <td>84</td>\n",
              "      <td>408</td>\n",
              "      <td>Yes</td>\n",
              "      <td>No</td>\n",
              "      <td>0</td>\n",
              "      <td>299.4</td>\n",
              "      <td>71</td>\n",
              "      <td>50.90</td>\n",
              "      <td>61.9</td>\n",
              "      <td>88</td>\n",
              "      <td>5.26</td>\n",
              "      <td>196.9</td>\n",
              "      <td>89</td>\n",
              "      <td>8.86</td>\n",
              "      <td>6.6</td>\n",
              "      <td>7</td>\n",
              "      <td>1.78</td>\n",
              "      <td>2</td>\n",
              "      <td>False</td>\n",
              "    </tr>\n",
              "    <tr>\n",
              "      <th>4</th>\n",
              "      <td>OK</td>\n",
              "      <td>75</td>\n",
              "      <td>415</td>\n",
              "      <td>Yes</td>\n",
              "      <td>No</td>\n",
              "      <td>0</td>\n",
              "      <td>166.7</td>\n",
              "      <td>113</td>\n",
              "      <td>28.34</td>\n",
              "      <td>148.3</td>\n",
              "      <td>122</td>\n",
              "      <td>12.61</td>\n",
              "      <td>186.9</td>\n",
              "      <td>121</td>\n",
              "      <td>8.41</td>\n",
              "      <td>10.1</td>\n",
              "      <td>3</td>\n",
              "      <td>2.73</td>\n",
              "      <td>3</td>\n",
              "      <td>False</td>\n",
              "    </tr>\n",
              "    <tr>\n",
              "      <th>...</th>\n",
              "      <td>...</td>\n",
              "      <td>...</td>\n",
              "      <td>...</td>\n",
              "      <td>...</td>\n",
              "      <td>...</td>\n",
              "      <td>...</td>\n",
              "      <td>...</td>\n",
              "      <td>...</td>\n",
              "      <td>...</td>\n",
              "      <td>...</td>\n",
              "      <td>...</td>\n",
              "      <td>...</td>\n",
              "      <td>...</td>\n",
              "      <td>...</td>\n",
              "      <td>...</td>\n",
              "      <td>...</td>\n",
              "      <td>...</td>\n",
              "      <td>...</td>\n",
              "      <td>...</td>\n",
              "      <td>...</td>\n",
              "    </tr>\n",
              "    <tr>\n",
              "      <th>3328</th>\n",
              "      <td>AZ</td>\n",
              "      <td>192</td>\n",
              "      <td>415</td>\n",
              "      <td>No</td>\n",
              "      <td>Yes</td>\n",
              "      <td>36</td>\n",
              "      <td>156.2</td>\n",
              "      <td>77</td>\n",
              "      <td>26.55</td>\n",
              "      <td>215.5</td>\n",
              "      <td>126</td>\n",
              "      <td>18.32</td>\n",
              "      <td>279.1</td>\n",
              "      <td>83</td>\n",
              "      <td>12.56</td>\n",
              "      <td>9.9</td>\n",
              "      <td>6</td>\n",
              "      <td>2.67</td>\n",
              "      <td>2</td>\n",
              "      <td>False</td>\n",
              "    </tr>\n",
              "    <tr>\n",
              "      <th>3329</th>\n",
              "      <td>WV</td>\n",
              "      <td>68</td>\n",
              "      <td>415</td>\n",
              "      <td>No</td>\n",
              "      <td>No</td>\n",
              "      <td>0</td>\n",
              "      <td>231.1</td>\n",
              "      <td>57</td>\n",
              "      <td>39.29</td>\n",
              "      <td>153.4</td>\n",
              "      <td>55</td>\n",
              "      <td>13.04</td>\n",
              "      <td>191.3</td>\n",
              "      <td>123</td>\n",
              "      <td>8.61</td>\n",
              "      <td>9.6</td>\n",
              "      <td>4</td>\n",
              "      <td>2.59</td>\n",
              "      <td>3</td>\n",
              "      <td>False</td>\n",
              "    </tr>\n",
              "    <tr>\n",
              "      <th>3330</th>\n",
              "      <td>RI</td>\n",
              "      <td>28</td>\n",
              "      <td>510</td>\n",
              "      <td>No</td>\n",
              "      <td>No</td>\n",
              "      <td>0</td>\n",
              "      <td>180.8</td>\n",
              "      <td>109</td>\n",
              "      <td>30.74</td>\n",
              "      <td>288.8</td>\n",
              "      <td>58</td>\n",
              "      <td>24.55</td>\n",
              "      <td>191.9</td>\n",
              "      <td>91</td>\n",
              "      <td>8.64</td>\n",
              "      <td>14.1</td>\n",
              "      <td>6</td>\n",
              "      <td>3.81</td>\n",
              "      <td>2</td>\n",
              "      <td>False</td>\n",
              "    </tr>\n",
              "    <tr>\n",
              "      <th>3331</th>\n",
              "      <td>CT</td>\n",
              "      <td>184</td>\n",
              "      <td>510</td>\n",
              "      <td>Yes</td>\n",
              "      <td>No</td>\n",
              "      <td>0</td>\n",
              "      <td>213.8</td>\n",
              "      <td>105</td>\n",
              "      <td>36.35</td>\n",
              "      <td>159.6</td>\n",
              "      <td>84</td>\n",
              "      <td>13.57</td>\n",
              "      <td>139.2</td>\n",
              "      <td>137</td>\n",
              "      <td>6.26</td>\n",
              "      <td>5.0</td>\n",
              "      <td>10</td>\n",
              "      <td>1.35</td>\n",
              "      <td>2</td>\n",
              "      <td>False</td>\n",
              "    </tr>\n",
              "    <tr>\n",
              "      <th>3332</th>\n",
              "      <td>TN</td>\n",
              "      <td>74</td>\n",
              "      <td>415</td>\n",
              "      <td>No</td>\n",
              "      <td>Yes</td>\n",
              "      <td>25</td>\n",
              "      <td>234.4</td>\n",
              "      <td>113</td>\n",
              "      <td>39.85</td>\n",
              "      <td>265.9</td>\n",
              "      <td>82</td>\n",
              "      <td>22.60</td>\n",
              "      <td>241.4</td>\n",
              "      <td>77</td>\n",
              "      <td>10.86</td>\n",
              "      <td>13.7</td>\n",
              "      <td>4</td>\n",
              "      <td>3.70</td>\n",
              "      <td>0</td>\n",
              "      <td>False</td>\n",
              "    </tr>\n",
              "  </tbody>\n",
              "</table>\n",
              "<p>3333 rows × 20 columns</p>\n",
              "</div>\n",
              "      <button class=\"colab-df-convert\" onclick=\"convertToInteractive('df-8120072a-9ac0-4d88-bd8a-7da38052df16')\"\n",
              "              title=\"Convert this dataframe to an interactive table.\"\n",
              "              style=\"display:none;\">\n",
              "        \n",
              "  <svg xmlns=\"http://www.w3.org/2000/svg\" height=\"24px\"viewBox=\"0 0 24 24\"\n",
              "       width=\"24px\">\n",
              "    <path d=\"M0 0h24v24H0V0z\" fill=\"none\"/>\n",
              "    <path d=\"M18.56 5.44l.94 2.06.94-2.06 2.06-.94-2.06-.94-.94-2.06-.94 2.06-2.06.94zm-11 1L8.5 8.5l.94-2.06 2.06-.94-2.06-.94L8.5 2.5l-.94 2.06-2.06.94zm10 10l.94 2.06.94-2.06 2.06-.94-2.06-.94-.94-2.06-.94 2.06-2.06.94z\"/><path d=\"M17.41 7.96l-1.37-1.37c-.4-.4-.92-.59-1.43-.59-.52 0-1.04.2-1.43.59L10.3 9.45l-7.72 7.72c-.78.78-.78 2.05 0 2.83L4 21.41c.39.39.9.59 1.41.59.51 0 1.02-.2 1.41-.59l7.78-7.78 2.81-2.81c.8-.78.8-2.07 0-2.86zM5.41 20L4 18.59l7.72-7.72 1.47 1.35L5.41 20z\"/>\n",
              "  </svg>\n",
              "      </button>\n",
              "      \n",
              "  <style>\n",
              "    .colab-df-container {\n",
              "      display:flex;\n",
              "      flex-wrap:wrap;\n",
              "      gap: 12px;\n",
              "    }\n",
              "\n",
              "    .colab-df-convert {\n",
              "      background-color: #E8F0FE;\n",
              "      border: none;\n",
              "      border-radius: 50%;\n",
              "      cursor: pointer;\n",
              "      display: none;\n",
              "      fill: #1967D2;\n",
              "      height: 32px;\n",
              "      padding: 0 0 0 0;\n",
              "      width: 32px;\n",
              "    }\n",
              "\n",
              "    .colab-df-convert:hover {\n",
              "      background-color: #E2EBFA;\n",
              "      box-shadow: 0px 1px 2px rgba(60, 64, 67, 0.3), 0px 1px 3px 1px rgba(60, 64, 67, 0.15);\n",
              "      fill: #174EA6;\n",
              "    }\n",
              "\n",
              "    [theme=dark] .colab-df-convert {\n",
              "      background-color: #3B4455;\n",
              "      fill: #D2E3FC;\n",
              "    }\n",
              "\n",
              "    [theme=dark] .colab-df-convert:hover {\n",
              "      background-color: #434B5C;\n",
              "      box-shadow: 0px 1px 3px 1px rgba(0, 0, 0, 0.15);\n",
              "      filter: drop-shadow(0px 1px 2px rgba(0, 0, 0, 0.3));\n",
              "      fill: #FFFFFF;\n",
              "    }\n",
              "  </style>\n",
              "\n",
              "      <script>\n",
              "        const buttonEl =\n",
              "          document.querySelector('#df-8120072a-9ac0-4d88-bd8a-7da38052df16 button.colab-df-convert');\n",
              "        buttonEl.style.display =\n",
              "          google.colab.kernel.accessAllowed ? 'block' : 'none';\n",
              "\n",
              "        async function convertToInteractive(key) {\n",
              "          const element = document.querySelector('#df-8120072a-9ac0-4d88-bd8a-7da38052df16');\n",
              "          const dataTable =\n",
              "            await google.colab.kernel.invokeFunction('convertToInteractive',\n",
              "                                                     [key], {});\n",
              "          if (!dataTable) return;\n",
              "\n",
              "          const docLinkHtml = 'Like what you see? Visit the ' +\n",
              "            '<a target=\"_blank\" href=https://colab.research.google.com/notebooks/data_table.ipynb>data table notebook</a>'\n",
              "            + ' to learn more about interactive tables.';\n",
              "          element.innerHTML = '';\n",
              "          dataTable['output_type'] = 'display_data';\n",
              "          await google.colab.output.renderOutput(dataTable, element);\n",
              "          const docLink = document.createElement('div');\n",
              "          docLink.innerHTML = docLinkHtml;\n",
              "          element.appendChild(docLink);\n",
              "        }\n",
              "      </script>\n",
              "    </div>\n",
              "  </div>\n",
              "  "
            ]
          },
          "metadata": {},
          "execution_count": 4
        }
      ]
    },
    {
      "cell_type": "code",
      "source": [
        "# columns name of the data set\n",
        "df.columns"
      ],
      "metadata": {
        "id": "tkFTjgWOhEr3",
        "colab": {
          "base_uri": "https://localhost:8080/"
        },
        "outputId": "4a2d6aa1-6709-4f0d-9237-c854ef48eeca"
      },
      "execution_count": null,
      "outputs": [
        {
          "output_type": "execute_result",
          "data": {
            "text/plain": [
              "Index(['State', 'Account length', 'Area code', 'International plan',\n",
              "       'Voice mail plan', 'Number vmail messages', 'Total day minutes',\n",
              "       'Total day calls', 'Total day charge', 'Total eve minutes',\n",
              "       'Total eve calls', 'Total eve charge', 'Total night minutes',\n",
              "       'Total night calls', 'Total night charge', 'Total intl minutes',\n",
              "       'Total intl calls', 'Total intl charge', 'Customer service calls',\n",
              "       'Churn'],\n",
              "      dtype='object')"
            ]
          },
          "metadata": {},
          "execution_count": 5
        }
      ]
    },
    {
      "cell_type": "code",
      "source": [
        "df.dtypes"
      ],
      "metadata": {
        "colab": {
          "base_uri": "https://localhost:8080/"
        },
        "id": "7bL3gD9qq0Uu",
        "outputId": "9a08b5ce-854e-4f76-ef4b-cb7c7d2adf09"
      },
      "execution_count": null,
      "outputs": [
        {
          "output_type": "execute_result",
          "data": {
            "text/plain": [
              "State                      object\n",
              "Account length              int64\n",
              "Area code                   int64\n",
              "International plan         object\n",
              "Voice mail plan            object\n",
              "Number vmail messages       int64\n",
              "Total day minutes         float64\n",
              "Total day calls             int64\n",
              "Total day charge          float64\n",
              "Total eve minutes         float64\n",
              "Total eve calls             int64\n",
              "Total eve charge          float64\n",
              "Total night minutes       float64\n",
              "Total night calls           int64\n",
              "Total night charge        float64\n",
              "Total intl minutes        float64\n",
              "Total intl calls            int64\n",
              "Total intl charge         float64\n",
              "Customer service calls      int64\n",
              "Churn                        bool\n",
              "dtype: object"
            ]
          },
          "metadata": {},
          "execution_count": 6
        }
      ]
    },
    {
      "cell_type": "code",
      "source": [
        "# Counting the number of unique values in each column\n",
        "df.nunique()"
      ],
      "metadata": {
        "colab": {
          "base_uri": "https://localhost:8080/"
        },
        "id": "uIbFhjRGOz1F",
        "outputId": "cb32258b-fc76-4d44-9c2c-ada602a713c7"
      },
      "execution_count": null,
      "outputs": [
        {
          "output_type": "execute_result",
          "data": {
            "text/plain": [
              "State                       51\n",
              "Account length             212\n",
              "Area code                    3\n",
              "International plan           2\n",
              "Voice mail plan              2\n",
              "Number vmail messages       46\n",
              "Total day minutes         1667\n",
              "Total day calls            119\n",
              "Total day charge          1667\n",
              "Total eve minutes         1611\n",
              "Total eve calls            123\n",
              "Total eve charge          1440\n",
              "Total night minutes       1591\n",
              "Total night calls          120\n",
              "Total night charge         933\n",
              "Total intl minutes         162\n",
              "Total intl calls            21\n",
              "Total intl charge          162\n",
              "Customer service calls      10\n",
              "Churn                        2\n",
              "dtype: int64"
            ]
          },
          "metadata": {},
          "execution_count": 7
        }
      ]
    },
    {
      "cell_type": "code",
      "source": [
        "# check for counts of missing values in each column\n",
        "df.isna().sum()"
      ],
      "metadata": {
        "colab": {
          "base_uri": "https://localhost:8080/"
        },
        "id": "AYTGsqdCmJBb",
        "outputId": "d9de8b45-a5b9-487e-e9fa-fdaaba055e59"
      },
      "execution_count": null,
      "outputs": [
        {
          "output_type": "execute_result",
          "data": {
            "text/plain": [
              "State                     0\n",
              "Account length            0\n",
              "Area code                 0\n",
              "International plan        0\n",
              "Voice mail plan           0\n",
              "Number vmail messages     0\n",
              "Total day minutes         0\n",
              "Total day calls           0\n",
              "Total day charge          0\n",
              "Total eve minutes         0\n",
              "Total eve calls           0\n",
              "Total eve charge          0\n",
              "Total night minutes       0\n",
              "Total night calls         0\n",
              "Total night charge        0\n",
              "Total intl minutes        0\n",
              "Total intl calls          0\n",
              "Total intl charge         0\n",
              "Customer service calls    0\n",
              "Churn                     0\n",
              "dtype: int64"
            ]
          },
          "metadata": {},
          "execution_count": 10
        }
      ]
    },
    {
      "cell_type": "markdown",
      "source": [
        "## The dataset has  20 columns:\n",
        "\n",
        "1. **State** : 51 unique state names\n",
        "2. **Account length** : Length of the account\n",
        "3. **Area code** : Code number of the areas of a state\n",
        "4. **International plan** : Shows whether the\n",
        "     service have an International Plan or not.\n",
        "\n",
        "     Yes indicates presence of  International Subscription Plan and No indicates no International Subscription Plan\n",
        "\n",
        "4. **Voice mail plan** : Yes indicates presence of Voice Mail Plan \n",
        "\n",
        "5. **Number vmail messages** : The number of Voice Mail Messages  \n",
        "6. **Total day minutes** : Total number of minutes spent during the day on call   \n",
        "7. **Total day calls** : The total number of call made during the day          \n",
        "8. **Total day charge** : The total charge on customer during the day    \n",
        "9. **Total eve minutes** : Total number of minutes  spent in the evening on call     \n",
        "10. **Total eve calls** : Total number of calls made in the evening           \n",
        "11. **Total eve charge** : The total charge on customer in the evening         \n",
        "12. **Total night minutes** : Total number of minutes spent at night on call    \n",
        "13. **Total night calls** :  The total number of call made at night     \n",
        "15. **Total night charge** : The total charge on customer at night        \n",
        "16. **Total intl minutes** :  Total number of minutes spent on international call      \n",
        "17. **Total intl calls** :  Total number of minutes spent on international call          \n",
        "18. **Total intl charge** : The total charge on customer fro making international calls         \n",
        "19. **Customer service calls** : Number of    Customer service calls  made by the customer  \n",
        "20. **Churn** : True means customer churned and False means retained custmer               "
      ],
      "metadata": {
        "id": "oUnS4qPzFpWD"
      }
    },
    {
      "cell_type": "markdown",
      "source": [
        "The data set contains 3333 rows and  20 columns and there seem to be no missing values in it nor duplicate data in any column."
      ],
      "metadata": {
        "id": "jo7S3hiVPRuK"
      }
    },
    {
      "cell_type": "code",
      "source": [
        "\n",
        "cor = df.corr()\n",
        "fig, axe = plt.subplots(figsize=(20,20))\n",
        "sns.heatmap(cor,cmap= \"YlGnBu\",annot=True)"
      ],
      "metadata": {
        "id": "AaR1eCAt_nK5"
      },
      "execution_count": null,
      "outputs": []
    },
    {
      "cell_type": "markdown",
      "source": [
        "# 5. Exploratory Data Analysis Of The Given Data Set"
      ],
      "metadata": {
        "id": "AODP38qIraze"
      }
    },
    {
      "cell_type": "markdown",
      "source": [
        " Let us look at the distribution of churn value, which will show us the proportion of the active and the inactive customers. "
      ],
      "metadata": {
        "id": "7HD1C6QeRfpg"
      }
    },
    {
      "cell_type": "code",
      "source": [
        "# count the no of customer who churned and who doesn't.\n",
        "\n",
        "df['Churn'].value_counts()"
      ],
      "metadata": {
        "colab": {
          "base_uri": "https://localhost:8080/"
        },
        "id": "1n6RcriXRRGi",
        "outputId": "a60a93f3-57cd-4616-fb4f-8fe485f11957"
      },
      "execution_count": null,
      "outputs": [
        {
          "output_type": "execute_result",
          "data": {
            "text/plain": [
              "False    2850\n",
              "True      483\n",
              "Name: Churn, dtype: int64"
            ]
          },
          "metadata": {},
          "execution_count": 11
        }
      ]
    },
    {
      "cell_type": "markdown",
      "source": [
        "And we can see from below that there is a higher proportion in terms of active customers."
      ],
      "metadata": {
        "id": "XPia8kJLFzll"
      }
    },
    {
      "cell_type": "code",
      "source": [
        "# Pie chart for churn \n",
        "\n",
        "churns = df.groupby('Churn').size()\n",
        "churns.plot(kind='pie',explode=[0.05,0.05],startangle=90, title='Pie chart for Churn', figsize=[8,8],\n",
        "          autopct=lambda p: '{:.2f}%({:.0f})'.format(p,(p/100)*churns.sum()))\n",
        "plt.legend()\n",
        "plt.show()"
      ],
      "metadata": {
        "colab": {
          "base_uri": "https://localhost:8080/",
          "height": 482
        },
        "id": "_2Ylnk0cAlEQ",
        "outputId": "bf1eedd4-ff3c-4065-d2f8-1bb1cb971bfa"
      },
      "execution_count": null,
      "outputs": [
        {
          "output_type": "display_data",
          "data": {
            "text/plain": [
              "<Figure size 576x576 with 1 Axes>"
            ],
            "image/png": "[encoded data removed]"
          },
          "metadata": {}
        }
      ]
    },
    {
      "cell_type": "markdown",
      "source": [
        "\n",
        "\n",
        "The pie chart shows the counts and percentages of customers who churned (true) and who did not churn (false).\n",
        "\n",
        "After analysing the churn column, we can conclude that almost 14.5% of the total customer have churned i.e 483 cutomers have churned while 85.5% i.e 2850 have not.\n",
        "\n",
        "The dataset is imbalanced."
      ],
      "metadata": {
        "id": "XaS1g3Pi0vGX"
      }
    },
    {
      "cell_type": "markdown",
      "source": [
        "# 5.1 Analyzing the \"State\" column"
      ],
      "metadata": {
        "id": "K2qQBZMG108c"
      }
    },
    {
      "cell_type": "code",
      "source": [
        "# printing the the number of all unique state \n",
        "df['State'].nunique()"
      ],
      "metadata": {
        "id": "R5n_v0lg0OFl",
        "colab": {
          "base_uri": "https://localhost:8080/"
        },
        "outputId": "25dc8a1a-88df-4532-8626-c989df514416"
      },
      "execution_count": null,
      "outputs": [
        {
          "output_type": "execute_result",
          "data": {
            "text/plain": [
              "51"
            ]
          },
          "metadata": {},
          "execution_count": 13
        }
      ]
    },
    {
      "cell_type": "code",
      "source": [
        "# Relatioon between state and churn \n",
        "plt.figure(figsize=(15,8))\n",
        "ax=sns.countplot(x='State',hue=\"Churn\",data=df)\n",
        "plt.show()"
      ],
      "metadata": {
        "colab": {
          "base_uri": "https://localhost:8080/",
          "height": 517
        },
        "id": "Lu8_d8Rz2Y1s",
        "outputId": "6400783d-5558-499c-8b76-1d69e6cf287d"
      },
      "execution_count": null,
      "outputs": [
        {
          "output_type": "display_data",
          "data": {
            "text/plain": [
              "<Figure size 1080x576 with 1 Axes>"
            ],
            "image/png": "[encoded data removed]"
          },
          "metadata": {
            "needs_background": "light"
          }
        }
      ]
    },
    {
      "cell_type": "code",
      "source": [
        "# top 10 state with the highest churn\n",
        "state_churn=df.groupby([\"State\"])[\"Churn\"].mean().sort_values(ascending=False)\n",
        "\n",
        "\n",
        "print(\"Top 10 states with the highest churn\\n\\n\" ,state_churn.head(10))\n",
        "\n",
        "#top 10 state with the lowest churn\n",
        "\n",
        "print(\"\\nTop 10 states with the lowest churn\\n\\n\" ,state_churn.tail(10))\n"
      ],
      "metadata": {
        "colab": {
          "base_uri": "https://localhost:8080/"
        },
        "id": "7HjMdK-hJ_42",
        "outputId": "9b7700e8-3d6d-43f3-db45-9f0c21f5c12f"
      },
      "execution_count": null,
      "outputs": [
        {
          "output_type": "stream",
          "name": "stdout",
          "text": [
            "Top 10 states with the highest churn\n",
            "\n",
            " State\n",
            "NJ    0.264706\n",
            "CA    0.264706\n",
            "TX    0.250000\n",
            "MD    0.242857\n",
            "SC    0.233333\n",
            "MI    0.219178\n",
            "MS    0.215385\n",
            "NV    0.212121\n",
            "WA    0.212121\n",
            "ME    0.209677\n",
            "Name: Churn, dtype: float64\n",
            "\n",
            "Top 10 states with the lowest churn\n",
            "\n",
            " State\n",
            "RI    0.092308\n",
            "WI    0.089744\n",
            "IL    0.086207\n",
            "NE    0.081967\n",
            "LA    0.078431\n",
            "IA    0.068182\n",
            "VA    0.064935\n",
            "AZ    0.062500\n",
            "AK    0.057692\n",
            "HI    0.056604\n",
            "Name: Churn, dtype: float64\n"
          ]
        }
      ]
    },
    {
      "cell_type": "code",
      "source": [
        "# bar plot of Top 10 states with the highest churn\n",
        "plt.rcParams['figure.figsize'] = (12, 7)\n",
        "((df.groupby(['State'])['Churn' ].mean())*100).sort_values (ascending = False).head (10).plot.bar (color= ['violet', 'indigo', 'red', 'blue', 'green', 'orange', 'r','pink','purple','grey'])\n",
        "plt.title(\" State with most churn percentage\", fontsize = 20)\n",
        "plt.xlabel('state')\n",
        "plt.ylabel('percentage')\n",
        "plt.show()"
      ],
      "metadata": {
        "colab": {
          "base_uri": "https://localhost:8080/",
          "height": 470
        },
        "id": "sexvn6Df7bLK",
        "outputId": "c15134e2-0ff8-4abb-ee39-6ed994b3a782"
      },
      "execution_count": null,
      "outputs": [
        {
          "output_type": "display_data",
          "data": {
            "text/plain": [
              "<Figure size 864x504 with 1 Axes>"
            ],
            "image/png": "[encoded data removed]"
          },
          "metadata": {
            "needs_background": "light"
          }
        }
      ]
    },
    {
      "cell_type": "code",
      "source": [
        "# bar plot of Top 10 states with the lowest churn\n",
        "\n",
        "plt.rcParams['figure.figsize'] = (12, 7)\n",
        "((df.groupby(['State'])['Churn' ].mean())*100).sort_values (ascending = False).tail (10).plot.bar (color= ['violet', 'indigo', 'red', 'blue', 'green', 'orange', 'r','pink','purple','grey'])\n",
        "plt.title(\" State with the least churn percentage\", fontsize = 20)\n",
        "plt.xlabel('state')\n",
        "plt.ylabel('percentage')\n",
        "plt.show()"
      ],
      "metadata": {
        "colab": {
          "base_uri": "https://localhost:8080/",
          "height": 467
        },
        "id": "CyMiTq2IH_nu",
        "outputId": "faaa2b57-3b7e-4000-e061-c768191b52d4"
      },
      "execution_count": null,
      "outputs": [
        {
          "output_type": "display_data",
          "data": {
            "text/plain": [
              "<Figure size 864x504 with 1 Axes>"
            ],
            "image/png": "[encoded data removed]"
          },
          "metadata": {
            "needs_background": "light"
          }
        }
      ]
    },
    {
      "cell_type": "markdown",
      "source": [
        "\n",
        "\n",
        "There are 51 unique states present who have different churn rate.\n",
        "\n",
        "From the above analysis CA, NJ, TX, MD, SC, MI, MS,NV ,WA,ME are the ones who have a higher churn rate of more than 20.\n",
        "\n",
        "The reason for this churn rate from a particular state may be due to the low coverage of the cellular network,poor service in those areas."
      ],
      "metadata": {
        "id": "iLfQF0zGNJl9"
      }
    },
    {
      "cell_type": "code",
      "source": [
        ""
      ],
      "metadata": {
        "id": "WKjnS6QjEmZL"
      },
      "execution_count": null,
      "outputs": []
    },
    {
      "cell_type": "markdown",
      "source": [
        "#5.2. Analysing the \"Acount length\" column"
      ],
      "metadata": {
        "id": "DPMSxUsqwzln"
      }
    },
    {
      "cell_type": "code",
      "source": [
        "#Separating churn and non churn customers\n",
        "churn_df= df[df[\"Churn\"] == bool(True)]\n",
        "not_churn_df= df[df[\"Churn\"] == bool(False)]"
      ],
      "metadata": {
        "id": "CPEIqRPab1SQ"
      },
      "execution_count": null,
      "outputs": []
    },
    {
      "cell_type": "code",
      "source": [
        "sns.distplot(df['Account length'], color = 'blue',label=\"All\")\n",
        "sns.distplot(churn_df['Account length'],color=\"red\",hist=False,label=\"Churned\")\n",
        "sns.distplot (not_churn_df['Account length'], color= 'green', hist= False, label=\"Not churned\")\n",
        "plt.legend()"
      ],
      "metadata": {
        "colab": {
          "base_uri": "https://localhost:8080/",
          "height": 420
        },
        "id": "YmfU4YKyw_OE",
        "outputId": "5a4cc399-11db-43e5-8035-27fa4adeabce"
      },
      "execution_count": null,
      "outputs": [
        {
          "output_type": "stream",
          "name": "stderr",
          "text": [
            "/usr/local/lib/python3.7/dist-packages/seaborn/distributions.py:2619: FutureWarning: `distplot` is a deprecated function and will be removed in a future version. Please adapt your code to use either `displot` (a figure-level function with similar flexibility) or `histplot` (an axes-level function for histograms).\n",
            "  warnings.warn(msg, FutureWarning)\n",
            "/usr/local/lib/python3.7/dist-packages/seaborn/distributions.py:2619: FutureWarning: `distplot` is a deprecated function and will be removed in a future version. Please adapt your code to use either `displot` (a figure-level function with similar flexibility) or `kdeplot` (an axes-level function for kernel density plots).\n",
            "  warnings.warn(msg, FutureWarning)\n",
            "/usr/local/lib/python3.7/dist-packages/seaborn/distributions.py:2619: FutureWarning: `distplot` is a deprecated function and will be removed in a future version. Please adapt your code to use either `displot` (a figure-level function with similar flexibility) or `kdeplot` (an axes-level function for kernel density plots).\n",
            "  warnings.warn(msg, FutureWarning)\n"
          ]
        },
        {
          "output_type": "execute_result",
          "data": {
            "text/plain": [
              "<matplotlib.legend.Legend at 0x7f8963d44b50>"
            ]
          },
          "metadata": {},
          "execution_count": 7
        },
        {
          "output_type": "display_data",
          "data": {
            "text/plain": [
              "<Figure size 432x288 with 1 Axes>"
            ],
            "image/png": "[encoded data removed]"
          },
          "metadata": {
            "needs_background": "light"
          }
        }
      ]
    },
    {
      "cell_type": "markdown",
      "source": [
        "We can see that the \"Account length\" have little to no impact on the number of churn."
      ],
      "metadata": {
        "id": "lQuP4BGVEZrk"
      }
    },
    {
      "cell_type": "markdown",
      "source": [
        "# 5.3 Analysing the \"Area code\" column"
      ],
      "metadata": {
        "id": "0bvLzsfvnkGd"
      }
    },
    {
      "cell_type": "code",
      "source": [
        "# Number of unique area code\n",
        "\n",
        "df[\"Area code\"].nunique()"
      ],
      "metadata": {
        "colab": {
          "base_uri": "https://localhost:8080/"
        },
        "id": "f5FlovvYvnJ3",
        "outputId": "14dd7e40-ddd2-4696-efd1-3526272ab779"
      },
      "execution_count": null,
      "outputs": [
        {
          "output_type": "execute_result",
          "data": {
            "text/plain": [
              "3"
            ]
          },
          "metadata": {},
          "execution_count": 8
        }
      ]
    },
    {
      "cell_type": "code",
      "source": [
        "# Relationship between the area code and the churn\n",
        "\n",
        "sns.countplot(x='Area code', hue=\"Churn\", data=df)\n",
        "plt.show()"
      ],
      "metadata": {
        "colab": {
          "base_uri": "https://localhost:8080/",
          "height": 279
        },
        "id": "7XZKg-7CMvp_",
        "outputId": "d78ac3ac-c8cf-4560-b071-4b02731667fd"
      },
      "execution_count": null,
      "outputs": [
        {
          "output_type": "display_data",
          "data": {
            "text/plain": [
              "<Figure size 432x288 with 1 Axes>"
            ],
            "image/png": "[encoded data removed]"
          },
          "metadata": {
            "needs_background": "light"
          }
        }
      ]
    },
    {
      "cell_type": "code",
      "source": [
        "# calculate Area code vs Churn percentage\n",
        "\n",
        "Area_code_data= pd.crosstab (df [\"Area code\"], df[\"Churn\"])\n",
        "Area_code_data['Percentage_Churn'] = Area_code_data.apply(lambda x: x[1]*100/(x[0]+x[1]), axis = 1)\n",
        "print (Area_code_data)"
      ],
      "metadata": {
        "colab": {
          "base_uri": "https://localhost:8080/"
        },
        "id": "4h6XrAClpBwH",
        "outputId": "d99cc541-d705-4e4a-b342-675bcd49c172"
      },
      "execution_count": null,
      "outputs": [
        {
          "output_type": "stream",
          "name": "stdout",
          "text": [
            "Churn      False  True  Percentage_Churn\n",
            "Area code                               \n",
            "408          716   122         14.558473\n",
            "415         1419   236         14.259819\n",
            "510          715   125         14.880952\n"
          ]
        }
      ]
    },
    {
      "cell_type": "markdown",
      "source": [
        "Here, we noticed that there are only 3 area code in the given data set.\n",
        "\n",
        "Additionally, the churn percentage for these area are almost the same, ruling out any relationship between the the 'Area code' and 'Churn'."
      ],
      "metadata": {
        "id": "oSNkP1IUvfsn"
      }
    },
    {
      "cell_type": "markdown",
      "source": [
        "# 5.4 Analysing the \"International plan\" column"
      ],
      "metadata": {
        "id": "wGS_zmbyx0Qu"
      }
    },
    {
      "cell_type": "code",
      "source": [
        "# counting the number of customer with International plan and those without the same.\n",
        "\n",
        "df[\"International plan\"].value_counts()"
      ],
      "metadata": {
        "colab": {
          "base_uri": "https://localhost:8080/"
        },
        "id": "FLkseepTuZvx",
        "outputId": "692cd306-c807-4e37-f0a3-cb4cf1a2b787"
      },
      "execution_count": null,
      "outputs": [
        {
          "output_type": "execute_result",
          "data": {
            "text/plain": [
              "No     3010\n",
              "Yes     323\n",
              "Name: International plan, dtype: int64"
            ]
          },
          "metadata": {},
          "execution_count": 10
        }
      ]
    },
    {
      "cell_type": "code",
      "source": [
        "# counting the number of customer with International plan and those without the same.\n",
        "\n",
        "international_count=df[\"International plan\"].value_counts()\n",
        "print(\"Number of customer with and without internatonal plan : \",international_count)\n",
        "print(\"\\n\")\n",
        "\n",
        "\n",
        "# Pie chart for the number of customer with International plan and those without the same.\n",
        "\n",
        "international = df.groupby('International plan').size()\n",
        "international.plot(kind='pie',explode=[0.05,0.05],startangle=0 ,title='International plan', figsize=[10,10],\n",
        "          autopct=lambda p: '{:.2f}%({:.0f})'.format(p,(p/100)*churns.sum()))\n",
        "plt.legend()\n",
        "plt.show()"
      ],
      "metadata": {
        "colab": {
          "base_uri": "https://localhost:8080/",
          "height": 678
        },
        "id": "wRi3qIuYyzzu",
        "outputId": "de216d3a-35d6-4edf-b44b-ba91dc9b52c9"
      },
      "execution_count": null,
      "outputs": [
        {
          "output_type": "stream",
          "name": "stdout",
          "text": [
            "Number of customer with and without internatonal plan :  No     3010\n",
            "Yes     323\n",
            "Name: International plan, dtype: int64\n",
            "\n",
            "\n"
          ]
        },
        {
          "output_type": "display_data",
          "data": {
            "text/plain": [
              "<Figure size 720x720 with 1 Axes>"
            ],
            "image/png": "[encoded data removed]"
          },
          "metadata": {}
        }
      ]
    },
    {
      "cell_type": "code",
      "source": [
        "International_plan_data=pd.crosstab(df['International plan'],df['Churn'])\n",
        "International_plan_data[ 'Percentage Churn'] = International_plan_data.apply(lambda x: x[1]*100/(x[0]+x[1]), axis = 1)\n",
        "print (International_plan_data)"
      ],
      "metadata": {
        "colab": {
          "base_uri": "https://localhost:8080/"
        },
        "id": "DjT4uVge1PtW",
        "outputId": "9953d298-baa0-468d-b7a3-e3b84ba8a56e"
      },
      "execution_count": null,
      "outputs": [
        {
          "output_type": "stream",
          "name": "stdout",
          "text": [
            "Churn               False  True  Percentage Churn\n",
            "International plan                               \n",
            "No                   2664   346         11.495017\n",
            "Yes                   186   137         42.414861\n"
          ]
        }
      ]
    },
    {
      "cell_type": "code",
      "source": [
        "sns.countplot(x='International plan',hue='Churn',data=df)"
      ],
      "metadata": {
        "colab": {
          "base_uri": "https://localhost:8080/",
          "height": 465
        },
        "id": "r082pz0G1eAr",
        "outputId": "a9da58ed-6124-414e-d00e-fd08cc859935"
      },
      "execution_count": null,
      "outputs": [
        {
          "output_type": "execute_result",
          "data": {
            "text/plain": [
              "<matplotlib.axes._subplots.AxesSubplot at 0x7faf301a4650>"
            ]
          },
          "metadata": {},
          "execution_count": 55
        },
        {
          "output_type": "display_data",
          "data": {
            "text/plain": [
              "<Figure size 864x504 with 1 Axes>"
            ],
            "image/png": "[encoded data removed]"
          },
          "metadata": {}
        }
      ]
    },
    {
      "cell_type": "markdown",
      "source": [
        "From the above analysis on the \"International plan' column we saw the following inferences :-\n",
        "\n",
        "1.  There are  3010 (90.31 %)  customer without an international plan and out of which  346 customer i.e 11.50 %  have churned\n",
        "\n",
        "2. There are 323 (9.69 %) customers with an international plan,out of which 137 customer i.e 42.41 % have churned.\n",
        "\n",
        "So, we can say that those customers with an international plan are churning in a much higher number than those without it.\n",
        "\n",
        "This may be due to high charge or connectivity issues.\n",
        "\n"
      ],
      "metadata": {
        "id": "Bo2nULz02-OW"
      }
    },
    {
      "cell_type": "markdown",
      "source": [
        "# 5.5 Analysing \"Voice mail plan\" column"
      ],
      "metadata": {
        "id": "OkQwX69m6Hes"
      }
    },
    {
      "cell_type": "code",
      "source": [
        "df['Voice mail plan'].value_counts()"
      ],
      "metadata": {
        "colab": {
          "base_uri": "https://localhost:8080/"
        },
        "id": "CJj9nI4rBtk2",
        "outputId": "3272903c-6d6f-49c0-ad69-fa2e0b0f911c"
      },
      "execution_count": null,
      "outputs": [
        {
          "output_type": "execute_result",
          "data": {
            "text/plain": [
              "No     2411\n",
              "Yes     922\n",
              "Name: Voice mail plan, dtype: int64"
            ]
          },
          "metadata": {},
          "execution_count": 56
        }
      ]
    },
    {
      "cell_type": "code",
      "source": [
        "voice_mail_plan_data=df.groupby('Voice mail plan').size()\n",
        "voice_mail_plan_data.plot(kind='pie',explode=[0.03,0.03],startangle=0 ,title='Voice mail plan', figsize=[10,10],\n",
        "          autopct=lambda p: '{:.2f}%({:.0f})'.format(p,(p/100)*df['Churn'].sum()))\n",
        "\n",
        "plt.legend()\n",
        "plt.show()"
      ],
      "metadata": {
        "colab": {
          "base_uri": "https://localhost:8080/",
          "height": 591
        },
        "id": "vRGC1dl4B_et",
        "outputId": "64096026-8731-4981-dc20-82d0e43e2068"
      },
      "execution_count": null,
      "outputs": [
        {
          "output_type": "display_data",
          "data": {
            "text/plain": [
              "<Figure size 720x720 with 1 Axes>"
            ],
            "image/png": "[encoded data removed]"
          },
          "metadata": {}
        }
      ]
    },
    {
      "cell_type": "code",
      "source": [
        "#Calculate the Voice mail plan vs Churn percentage\n",
        "\n",
        "voice_mail_plan= pd.crosstab (df[\"Voice mail plan\"],df [\"Churn\"])\n",
        "voice_mail_plan[ 'Percentage Churn'] = voice_mail_plan.apply(lambda x: x[1]*100/(x[0]+x[1]), axis = 1)\n",
        "print (voice_mail_plan)"
      ],
      "metadata": {
        "colab": {
          "base_uri": "https://localhost:8080/"
        },
        "id": "u_u95p2m6Sg6",
        "outputId": "f213bf5d-be12-4ab3-e9b2-2c3995938a7a"
      },
      "execution_count": null,
      "outputs": [
        {
          "output_type": "stream",
          "name": "stdout",
          "text": [
            "Churn            False  True  Percentage Churn\n",
            "Voice mail plan                               \n",
            "No                2008   403         16.715056\n",
            "Yes                842    80          8.676790\n"
          ]
        }
      ]
    },
    {
      "cell_type": "code",
      "source": [
        "# analizing voice mail plan vs churn using countplots\n",
        "\n",
        "sns.countplot(x='Voice mail plan',hue=\"Churn\",data=df)"
      ],
      "metadata": {
        "colab": {
          "base_uri": "https://localhost:8080/",
          "height": 465
        },
        "id": "gqgYPLXkDw6m",
        "outputId": "1009536b-d1a3-4ab1-866b-e2559a44d611"
      },
      "execution_count": null,
      "outputs": [
        {
          "output_type": "execute_result",
          "data": {
            "text/plain": [
              "<matplotlib.axes._subplots.AxesSubplot at 0x7faf2f81ebd0>"
            ]
          },
          "metadata": {},
          "execution_count": 72
        },
        {
          "output_type": "display_data",
          "data": {
            "text/plain": [
              "<Figure size 864x504 with 1 Axes>"
            ],
            "image/png": "[encoded data removed]"
          },
          "metadata": {}
        }
      ]
    },
    {
      "cell_type": "markdown",
      "source": [
        "\n",
        "**Inference : -**\n",
        "\n",
        "We can see that there is no clear relation between voice mail plan and the number of churn."
      ],
      "metadata": {
        "id": "2BEJ9VXcHYuQ"
      }
    },
    {
      "cell_type": "code",
      "source": [
        ""
      ],
      "metadata": {
        "id": "rNXtDMX3GAYI"
      },
      "execution_count": null,
      "outputs": []
    },
    {
      "cell_type": "markdown",
      "source": [
        "# 5.6 Analizing the \"Number vmail messagess\" column"
      ],
      "metadata": {
        "id": "c21-fhKdHzA_"
      }
    },
    {
      "cell_type": "code",
      "source": [
        "# Number of unique voice mail counts\n",
        "\n",
        "df['Number vmail messages'].nunique()"
      ],
      "metadata": {
        "id": "7ecWhcI4Es-5",
        "colab": {
          "base_uri": "https://localhost:8080/"
        },
        "outputId": "059c91a1-859d-49c9-e4f2-54dd1b5e821d"
      },
      "execution_count": null,
      "outputs": [
        {
          "output_type": "execute_result",
          "data": {
            "text/plain": [
              "46"
            ]
          },
          "metadata": {},
          "execution_count": 8
        }
      ]
    },
    {
      "cell_type": "code",
      "source": [
        "# unique Voice-Mail  Messages\n",
        "\n",
        "print('Unique vmail messages',df['Number vmail messages'].unique())\n",
        "print('\\n')\n",
        "df['Number vmail messages'].describe()"
      ],
      "metadata": {
        "colab": {
          "base_uri": "https://localhost:8080/"
        },
        "id": "Hk_WYSz2MrPG",
        "outputId": "fd2cdb9f-25b6-48ef-f5f5-90ffdd934276"
      },
      "execution_count": null,
      "outputs": [
        {
          "output_type": "stream",
          "name": "stdout",
          "text": [
            "Unique vmail messages [25 26  0 24 37 27 33 39 30 41 28 34 46 29 35 21 32 42 36 22 23 43 31 38\n",
            " 40 48 18 17 45 16 20 14 19 51 15 11 12 47  8 44 49  4 10 13 50  9]\n",
            "\n",
            "\n"
          ]
        },
        {
          "output_type": "execute_result",
          "data": {
            "text/plain": [
              "count    3333.000000\n",
              "mean        8.099010\n",
              "std        13.688365\n",
              "min         0.000000\n",
              "25%         0.000000\n",
              "50%         0.000000\n",
              "75%        20.000000\n",
              "max        51.000000\n",
              "Name: Number vmail messages, dtype: float64"
            ]
          },
          "metadata": {},
          "execution_count": 34
        }
      ]
    },
    {
      "cell_type": "code",
      "source": [
        "#Analysing by using displot diagram\n",
        "\n",
        "sns.set_theme()\n",
        "plt.figure(figsize=(15,8))\n",
        "sns.distplot(df[ 'Number vmail messages'])"
      ],
      "metadata": {
        "colab": {
          "base_uri": "https://localhost:8080/",
          "height": 485
        },
        "id": "x3lfkl2uJQOL",
        "outputId": "c399c683-ce3f-4c4a-a6bd-4c76bd9a8c41"
      },
      "execution_count": null,
      "outputs": [
        {
          "output_type": "stream",
          "name": "stderr",
          "text": [
            "/usr/local/lib/python3.7/dist-packages/seaborn/distributions.py:2619: FutureWarning: `distplot` is a deprecated function and will be removed in a future version. Please adapt your code to use either `displot` (a figure-level function with similar flexibility) or `histplot` (an axes-level function for histograms).\n",
            "  warnings.warn(msg, FutureWarning)\n"
          ]
        },
        {
          "output_type": "execute_result",
          "data": {
            "text/plain": [
              "<matplotlib.axes._subplots.AxesSubplot at 0x7f6e6f058c10>"
            ]
          },
          "metadata": {},
          "execution_count": 6
        },
        {
          "output_type": "display_data",
          "data": {
            "text/plain": [
              "<Figure size 1080x576 with 1 Axes>"
            ],
            "image/png": "[encoded data removed]"
          },
          "metadata": {}
        }
      ]
    },
    {
      "cell_type": "code",
      "source": [
        "#Analysing by using boxplot diagram between 'number vmail messages' and 'churn'\n",
        "\n",
        "fig = plt.figure(figsize =(15, 10)) \n",
        "df.boxplot(column='Number vmail messages', by='Churn')\n",
        "fig.suptitle('Number vmail message', fontsize=12)\n",
        "plt.show()"
      ],
      "metadata": {
        "colab": {
          "base_uri": "https://localhost:8080/",
          "height": 375
        },
        "id": "PxuAWW1YMpGm",
        "outputId": "3283b409-75d5-4165-c7e5-66a3c03e7ba5"
      },
      "execution_count": null,
      "outputs": [
        {
          "output_type": "stream",
          "name": "stderr",
          "text": [
            "/usr/local/lib/python3.7/dist-packages/matplotlib/cbook/__init__.py:1376: VisibleDeprecationWarning: Creating an ndarray from ragged nested sequences (which is a list-or-tuple of lists-or-tuples-or ndarrays with different lengths or shapes) is deprecated. If you meant to do this, you must specify 'dtype=object' when creating the ndarray.\n",
            "  X = np.atleast_1d(X.T if isinstance(X, np.ndarray) else np.asarray(X))\n"
          ]
        },
        {
          "output_type": "display_data",
          "data": {
            "text/plain": [
              "<Figure size 1080x720 with 0 Axes>"
            ]
          },
          "metadata": {}
        },
        {
          "output_type": "display_data",
          "data": {
            "text/plain": [
              "<Figure size 432x288 with 1 Axes>"
            ],
            "image/png": "[encoded data removed]"
          },
          "metadata": {
            "needs_background": "light"
          }
        }
      ]
    },
    {
      "cell_type": "markdown",
      "source": [
        "**Inference : -**\n",
        "\n",
        "After analyzing the above voice mail data we saw that when there are more than 20 voice-mail messages then certainly there is a churn. \n",
        "\n",
        "This maybe due to poor voice-mail service.\n",
        "\n",
        "For that, we need to,\n",
        "\n",
        "1. Improve the voice mail service quality.\n",
        "2. Set limit to the number of voicemails."
      ],
      "metadata": {
        "id": "CMFWUj9eOiw-"
      }
    },
    {
      "cell_type": "markdown",
      "source": [
        "# 5.7 Analyzing all the calls minutes and the charges column together."
      ],
      "metadata": {
        "id": "SAUot7tnPhT_"
      }
    },
    {
      "cell_type": "markdown",
      "source": [
        "### 5.7.1 Analyzing data for day time calls."
      ],
      "metadata": {
        "id": "XzMblvNMXWhk"
      }
    },
    {
      "cell_type": "code",
      "source": [
        "# Features of the Total day minute\n",
        "\n",
        "print('Maximum number of minutes:',df['Total day minutes'].max(),'i.e.',round(df['Total day minutes'].max()/60),\"hours\")\n",
        "print('Maximum number of minutes:',df['Total day minutes'].min())\n",
        "print('Average number of minutes:',df['Total day minutes'].mean())"
      ],
      "metadata": {
        "colab": {
          "base_uri": "https://localhost:8080/"
        },
        "id": "Tr2YoDXjbfjd",
        "outputId": "6c9bd5ec-9f14-4ec9-c198-a13b06775e6c"
      },
      "execution_count": null,
      "outputs": [
        {
          "output_type": "stream",
          "name": "stdout",
          "text": [
            "Maximum number of minutes: 350.8 i.e. 6 hours\n",
            "Maximum number of minutes: 0.0\n",
            "Average number of minutes: 179.77509750975116\n"
          ]
        }
      ]
    },
    {
      "cell_type": "code",
      "source": [
        "# boxplot of Total day minutes vs churn \n",
        "\n",
        "df.boxplot(column=\"Total day minutes\",by=\"Churn\")"
      ],
      "metadata": {
        "colab": {
          "base_uri": "https://localhost:8080/",
          "height": 373
        },
        "id": "neF5jJq-cbm1",
        "outputId": "0baab015-f82c-4d61-e3ed-e665aaab586c"
      },
      "execution_count": null,
      "outputs": [
        {
          "output_type": "stream",
          "name": "stderr",
          "text": [
            "/usr/local/lib/python3.7/dist-packages/matplotlib/cbook/__init__.py:1376: VisibleDeprecationWarning: Creating an ndarray from ragged nested sequences (which is a list-or-tuple of lists-or-tuples-or ndarrays with different lengths or shapes) is deprecated. If you meant to do this, you must specify 'dtype=object' when creating the ndarray.\n",
            "  X = np.atleast_1d(X.T if isinstance(X, np.ndarray) else np.asarray(X))\n"
          ]
        },
        {
          "output_type": "execute_result",
          "data": {
            "text/plain": [
              "<matplotlib.axes._subplots.AxesSubplot at 0x7fedd343db50>"
            ]
          },
          "metadata": {},
          "execution_count": 10
        },
        {
          "output_type": "display_data",
          "data": {
            "text/plain": [
              "<Figure size 432x288 with 1 Axes>"
            ],
            "image/png": "[encoded data removed]"
          },
          "metadata": {
            "needs_background": "light"
          }
        }
      ]
    },
    {
      "cell_type": "code",
      "source": [
        "# Features of Total day calls\n",
        "\n",
        "print('Maximum number of calls:',df['Total day calls'].max())\n",
        "print('Minimum number of calls:',df['Total day calls'].min())\n",
        "print('Average number of calls:',df['Total day calls'].mean())"
      ],
      "metadata": {
        "colab": {
          "base_uri": "https://localhost:8080/"
        },
        "id": "1oTToKDDdSnS",
        "outputId": "75bec309-844c-4a40-8a4a-b4419b4074f3"
      },
      "execution_count": null,
      "outputs": [
        {
          "output_type": "stream",
          "name": "stdout",
          "text": [
            "Maximum number of calls: 165\n",
            "Minimum number of calls: 0\n",
            "Average number of calls: 100.43564356435644\n"
          ]
        }
      ]
    },
    {
      "cell_type": "code",
      "source": [
        "# boxplot of Total day calls vs churn \n",
        "\n",
        "df.boxplot(column=\"Total day calls\",by=\"Churn\")"
      ],
      "metadata": {
        "colab": {
          "base_uri": "https://localhost:8080/",
          "height": 373
        },
        "id": "d01ipBHhdeg7",
        "outputId": "fb1f85c7-5191-4f03-aa3c-92167cc64233"
      },
      "execution_count": null,
      "outputs": [
        {
          "output_type": "stream",
          "name": "stderr",
          "text": [
            "/usr/local/lib/python3.7/dist-packages/matplotlib/cbook/__init__.py:1376: VisibleDeprecationWarning: Creating an ndarray from ragged nested sequences (which is a list-or-tuple of lists-or-tuples-or ndarrays with different lengths or shapes) is deprecated. If you meant to do this, you must specify 'dtype=object' when creating the ndarray.\n",
            "  X = np.atleast_1d(X.T if isinstance(X, np.ndarray) else np.asarray(X))\n"
          ]
        },
        {
          "output_type": "execute_result",
          "data": {
            "text/plain": [
              "<matplotlib.axes._subplots.AxesSubplot at 0x7fedd338f890>"
            ]
          },
          "metadata": {},
          "execution_count": 12
        },
        {
          "output_type": "display_data",
          "data": {
            "text/plain": [
              "<Figure size 432x288 with 1 Axes>"
            ],
            "image/png": "[encoded data removed]"
          },
          "metadata": {
            "needs_background": "light"
          }
        }
      ]
    },
    {
      "cell_type": "code",
      "source": [
        "# Features of Total day charge \n",
        "\n",
        "print('Maximum number of charge:',df['Total day charge'].max())\n",
        "print('Minimum number of charge:',df['Total day charge'].min())\n",
        "print('Average number of charge:',df['Total day charge'].mean())"
      ],
      "metadata": {
        "colab": {
          "base_uri": "https://localhost:8080/"
        },
        "id": "OeKe_4q2dwFU",
        "outputId": "0393bd8c-39a6-4262-96fd-9e7d4df3c5a7"
      },
      "execution_count": null,
      "outputs": [
        {
          "output_type": "stream",
          "name": "stdout",
          "text": [
            "Maximum number of charge: 59.64\n",
            "Minimum number of charge: 0.0\n",
            "Average number of charge: 30.562307230723093\n"
          ]
        }
      ]
    },
    {
      "cell_type": "code",
      "source": [
        "# boxplot of Total day charge vs churn\n",
        "\n",
        "df.boxplot(column='Total day charge', by='Churn')"
      ],
      "metadata": {
        "colab": {
          "base_uri": "https://localhost:8080/",
          "height": 373
        },
        "id": "0cxRtDHVd6Xc",
        "outputId": "387cc60c-5b22-4718-e605-02ea1712c1e4"
      },
      "execution_count": null,
      "outputs": [
        {
          "output_type": "stream",
          "name": "stderr",
          "text": [
            "/usr/local/lib/python3.7/dist-packages/matplotlib/cbook/__init__.py:1376: VisibleDeprecationWarning: Creating an ndarray from ragged nested sequences (which is a list-or-tuple of lists-or-tuples-or ndarrays with different lengths or shapes) is deprecated. If you meant to do this, you must specify 'dtype=object' when creating the ndarray.\n",
            "  X = np.atleast_1d(X.T if isinstance(X, np.ndarray) else np.asarray(X))\n"
          ]
        },
        {
          "output_type": "execute_result",
          "data": {
            "text/plain": [
              "<matplotlib.axes._subplots.AxesSubplot at 0x7fedd3311950>"
            ]
          },
          "metadata": {},
          "execution_count": 14
        },
        {
          "output_type": "display_data",
          "data": {
            "text/plain": [
              "<Figure size 432x288 with 1 Axes>"
            ],
            "image/png": "[encoded data removed]"
          },
          "metadata": {
            "needs_background": "light"
          }
        }
      ]
    },
    {
      "cell_type": "code",
      "source": [
        "# Study realtions with sctterplot\n",
        "\n",
        "plt.figure(figsize=(15,8))\n",
        "sns.scatterplot(x=\"Total day minutes\",y=df[\"Total day charge\"],hue=\"Churn\",data=df)"
      ],
      "metadata": {
        "colab": {
          "base_uri": "https://localhost:8080/",
          "height": 432
        },
        "id": "YG8LTCiEXmXb",
        "outputId": "9dbfef9e-2e7d-4308-a7ad-753139a80583"
      },
      "execution_count": null,
      "outputs": [
        {
          "output_type": "execute_result",
          "data": {
            "text/plain": [
              "<matplotlib.axes._subplots.AxesSubplot at 0x7f21c868f290>"
            ]
          },
          "metadata": {},
          "execution_count": 26
        },
        {
          "output_type": "display_data",
          "data": {
            "text/plain": [
              "<Figure size 1080x576 with 1 Axes>"
            ],
            "image/png": "[encoded data removed]"
          },
          "metadata": {
            "needs_background": "light"
          }
        }
      ]
    },
    {
      "cell_type": "markdown",
      "source": [
        "**Inference :-**\n",
        "\n",
        "\n",
        "1. An average of 100 calls are made during day time but the median for the churned customers is slightly higher than 100 indicating a call drops.\n",
        "\n",
        "Customers spending more minutes on calls during day tend to churn\n",
        "\n",
        "2. With increase in the call duration along with the increase in charge rate , the churn increases.\n"
      ],
      "metadata": {
        "id": "kp0EEkYCfonP"
      }
    },
    {
      "cell_type": "code",
      "source": [
        "# making a different columns for the churned and not the churned \n",
        "\n",
        "churn_df= df[df[\"Churn\"] == bool(True)]\n",
        "not_churn_df= df[df[\"Churn\"] == bool(False)]"
      ],
      "metadata": {
        "id": "bmyZAbpyZiVb"
      },
      "execution_count": null,
      "outputs": []
    },
    {
      "cell_type": "markdown",
      "source": [
        "### 5.7.2 Analyzing data for evening calls."
      ],
      "metadata": {
        "id": "v51ijE8uxV4x"
      }
    },
    {
      "cell_type": "code",
      "source": [
        "# Features of Total eve calls \n",
        "\n",
        "print('Maximum number of evening calls:',df['Total eve calls'].max())\n",
        "print('Minimum number of evening calls:',df['Total eve calls'].min())\n",
        "print('Average number of  evening calls:',df['Total eve calls'].mean())"
      ],
      "metadata": {
        "colab": {
          "base_uri": "https://localhost:8080/"
        },
        "id": "lREe-4tni2dy",
        "outputId": "0c033b5a-2dc9-4ffe-eabb-7f488cbd40f8"
      },
      "execution_count": null,
      "outputs": [
        {
          "output_type": "stream",
          "name": "stdout",
          "text": [
            "Maximum number of evening calls: 170\n",
            "Minimum number of evening calls: 0\n",
            "Average number of  evening calls: 100.11431143114311\n"
          ]
        }
      ]
    },
    {
      "cell_type": "code",
      "source": [
        "# Features of the Total eve call column\n",
        "\n",
        "print('Maximum duration of evening calls:',round(df['Total eve minutes'].max()/60),'hours')\n",
        "print(\"\\n\")\n",
        "print(df[\"Total eve minutes\"].describe())"
      ],
      "metadata": {
        "colab": {
          "base_uri": "https://localhost:8080/"
        },
        "id": "O1YOuC83ok9n",
        "outputId": "9508f7ce-90af-4f1f-9866-8472052b9267"
      },
      "execution_count": null,
      "outputs": [
        {
          "output_type": "stream",
          "name": "stdout",
          "text": [
            "Maximum duration of evening calls: 6 hours\n",
            "\n",
            "\n",
            "count    3333.000000\n",
            "mean      200.980348\n",
            "std        50.713844\n",
            "min         0.000000\n",
            "25%       166.600000\n",
            "50%       201.400000\n",
            "75%       235.300000\n",
            "max       363.700000\n",
            "Name: Total eve minutes, dtype: float64\n"
          ]
        }
      ]
    },
    {
      "cell_type": "code",
      "source": [
        "#Print the mean value of churned and not churned customer \n",
        "\n",
        "print(df.groupby([\"Churn\"])['Total eve minutes'].mean())"
      ],
      "metadata": {
        "colab": {
          "base_uri": "https://localhost:8080/"
        },
        "id": "0SJDEqJ0xr-j",
        "outputId": "4ae1c2a6-0e64-4283-e21c-6202fb38185b"
      },
      "execution_count": null,
      "outputs": [
        {
          "output_type": "stream",
          "name": "stdout",
          "text": [
            "Churn\n",
            "False    199.043298\n",
            "True     212.410145\n",
            "Name: Total eve minutes, dtype: float64\n"
          ]
        }
      ]
    },
    {
      "cell_type": "code",
      "source": [
        "# boxplot of Total eve minutes vs churn\n",
        "\n",
        "df.boxplot(column='Total eve minutes',by='Churn')"
      ],
      "metadata": {
        "colab": {
          "base_uri": "https://localhost:8080/",
          "height": 373
        },
        "id": "OgPaaQeciQu5",
        "outputId": "b8255ae7-b8a8-4af9-e6d5-4eb868211d54"
      },
      "execution_count": null,
      "outputs": [
        {
          "output_type": "stream",
          "name": "stderr",
          "text": [
            "/usr/local/lib/python3.7/dist-packages/matplotlib/cbook/__init__.py:1376: VisibleDeprecationWarning: Creating an ndarray from ragged nested sequences (which is a list-or-tuple of lists-or-tuples-or ndarrays with different lengths or shapes) is deprecated. If you meant to do this, you must specify 'dtype=object' when creating the ndarray.\n",
            "  X = np.atleast_1d(X.T if isinstance(X, np.ndarray) else np.asarray(X))\n"
          ]
        },
        {
          "output_type": "execute_result",
          "data": {
            "text/plain": [
              "<matplotlib.axes._subplots.AxesSubplot at 0x7fedd3139e50>"
            ]
          },
          "metadata": {},
          "execution_count": 18
        },
        {
          "output_type": "display_data",
          "data": {
            "text/plain": [
              "<Figure size 432x288 with 1 Axes>"
            ],
            "image/png": "[encoded data removed]"
          },
          "metadata": {
            "needs_background": "light"
          }
        }
      ]
    },
    {
      "cell_type": "code",
      "source": [
        "#Print the mean value of churned and not churned customer \n",
        "\n",
        "print(df.groupby([\"Churn\"])['Total eve calls'].mean())"
      ],
      "metadata": {
        "colab": {
          "base_uri": "https://localhost:8080/"
        },
        "id": "CWPDJpSIxP_s",
        "outputId": "2859a861-50c7-4a6a-920f-c1c9150bca66"
      },
      "execution_count": null,
      "outputs": [
        {
          "output_type": "stream",
          "name": "stdout",
          "text": [
            "Churn\n",
            "False    100.038596\n",
            "True     100.561077\n",
            "Name: Total eve calls, dtype: float64\n"
          ]
        }
      ]
    },
    {
      "cell_type": "code",
      "source": [
        "# boxplot of Total eve calls vs churn\n",
        "\n",
        "df.boxplot(column='Total eve calls',by=\"Churn\")"
      ],
      "metadata": {
        "colab": {
          "base_uri": "https://localhost:8080/",
          "height": 373
        },
        "id": "Ywp7I-86jE_t",
        "outputId": "6c81e6da-e583-488c-84c2-1f1565dec8f3"
      },
      "execution_count": null,
      "outputs": [
        {
          "output_type": "stream",
          "name": "stderr",
          "text": [
            "/usr/local/lib/python3.7/dist-packages/matplotlib/cbook/__init__.py:1376: VisibleDeprecationWarning: Creating an ndarray from ragged nested sequences (which is a list-or-tuple of lists-or-tuples-or ndarrays with different lengths or shapes) is deprecated. If you meant to do this, you must specify 'dtype=object' when creating the ndarray.\n",
            "  X = np.atleast_1d(X.T if isinstance(X, np.ndarray) else np.asarray(X))\n"
          ]
        },
        {
          "output_type": "execute_result",
          "data": {
            "text/plain": [
              "<matplotlib.axes._subplots.AxesSubplot at 0x7fedd3066310>"
            ]
          },
          "metadata": {},
          "execution_count": 20
        },
        {
          "output_type": "display_data",
          "data": {
            "text/plain": [
              "<Figure size 432x288 with 1 Axes>"
            ],
            "image/png": "[encoded data removed]"
          },
          "metadata": {
            "needs_background": "light"
          }
        }
      ]
    },
    {
      "cell_type": "code",
      "source": [
        "# boxplot of Total eve charge vs churn\n",
        "\n",
        "df.boxplot(column='Total eve charge',by=\"Churn\")"
      ],
      "metadata": {
        "colab": {
          "base_uri": "https://localhost:8080/",
          "height": 373
        },
        "id": "IGi_LBb5edPP",
        "outputId": "e016a244-a5d3-4c1b-df6a-346a935cfd1a"
      },
      "execution_count": null,
      "outputs": [
        {
          "output_type": "stream",
          "name": "stderr",
          "text": [
            "/usr/local/lib/python3.7/dist-packages/matplotlib/cbook/__init__.py:1376: VisibleDeprecationWarning: Creating an ndarray from ragged nested sequences (which is a list-or-tuple of lists-or-tuples-or ndarrays with different lengths or shapes) is deprecated. If you meant to do this, you must specify 'dtype=object' when creating the ndarray.\n",
            "  X = np.atleast_1d(X.T if isinstance(X, np.ndarray) else np.asarray(X))\n"
          ]
        },
        {
          "output_type": "execute_result",
          "data": {
            "text/plain": [
              "<matplotlib.axes._subplots.AxesSubplot at 0x7fedd3289350>"
            ]
          },
          "metadata": {},
          "execution_count": 15
        },
        {
          "output_type": "display_data",
          "data": {
            "text/plain": [
              "<Figure size 432x288 with 1 Axes>"
            ],
            "image/png": "[encoded data removed]"
          },
          "metadata": {
            "needs_background": "light"
          }
        }
      ]
    },
    {
      "cell_type": "code",
      "source": [
        "# Study realtions with scatterplot\n",
        "\n",
        "plt.figure(figsize=(15,8))\n",
        "sns.scatterplot(x=\"Total eve minutes\",y=df[\"Total eve charge\"],hue=\"Churn\",data=df)"
      ],
      "metadata": {
        "colab": {
          "base_uri": "https://localhost:8080/",
          "height": 433
        },
        "id": "VYh2YMnxzhK7",
        "outputId": "353385cd-7bf0-4637-e37d-93d6e536ce90"
      },
      "execution_count": null,
      "outputs": [
        {
          "output_type": "execute_result",
          "data": {
            "text/plain": [
              "<matplotlib.axes._subplots.AxesSubplot at 0x7fb46130c890>"
            ]
          },
          "metadata": {},
          "execution_count": 20
        },
        {
          "output_type": "display_data",
          "data": {
            "text/plain": [
              "<Figure size 1080x576 with 1 Axes>"
            ],
            "image/png": "[encoded data removed]"
          },
          "metadata": {}
        }
      ]
    },
    {
      "cell_type": "markdown",
      "source": [
        "**Inference :-**\n",
        "\n",
        " The median for evening charge is higher for those who have churned as comparesd to those who have not, indicating a correlation between the call miniutes and the charge. This can also be seen in the aove scatterplot."
      ],
      "metadata": {
        "id": "mUIHHTvI8d-L"
      }
    },
    {
      "cell_type": "markdown",
      "source": [
        "### 5.7.3 Analyzing data for night time calls."
      ],
      "metadata": {
        "id": "n1B0HUYz3R3i"
      }
    },
    {
      "cell_type": "code",
      "source": [
        "# Features of Total night calls \n",
        "\n",
        "print('Maximum number of night calls:',df['Total night calls'].max())\n",
        "print('Minimum number of calls:',df['Total night calls'].min())\n",
        "print('Average number of calls:',df['Total night calls'].mean())"
      ],
      "metadata": {
        "colab": {
          "base_uri": "https://localhost:8080/"
        },
        "outputId": "9a3226da-e32f-4a53-eed4-3b8036f47603",
        "id": "aCkQ-YAClJDG"
      },
      "execution_count": null,
      "outputs": [
        {
          "output_type": "stream",
          "name": "stdout",
          "text": [
            "Maximum number of night calls: 175\n",
            "Minimum number of calls: 33\n",
            "Average number of calls: 100.10771077107711\n"
          ]
        }
      ]
    },
    {
      "cell_type": "code",
      "source": [
        "# Features of the Total night minutes column\n",
        "\n",
        "print('Maximum duration of night minutes:',round(df['Total night minutes'].max()/60),'hours')\n",
        "print(\"\\n\")\n",
        "print(df[\"Total night minutes\"].describe())"
      ],
      "metadata": {
        "colab": {
          "base_uri": "https://localhost:8080/"
        },
        "outputId": "d386ec81-4e3d-424a-e2d5-f4c3ac0c54c3",
        "id": "dyWqjRCAlJDD"
      },
      "execution_count": null,
      "outputs": [
        {
          "output_type": "stream",
          "name": "stdout",
          "text": [
            "Maximum duration of evening calls: 7 hours\n",
            "\n",
            "\n",
            "count    3333.000000\n",
            "mean      200.872037\n",
            "std        50.573847\n",
            "min        23.200000\n",
            "25%       167.000000\n",
            "50%       201.200000\n",
            "75%       235.300000\n",
            "max       395.000000\n",
            "Name: Total night minutes, dtype: float64\n"
          ]
        }
      ]
    },
    {
      "cell_type": "code",
      "source": [
        "#Print the mean value of churned and not churned customer \n",
        "\n",
        "print(df.groupby([\"Churn\"])['Total night minutes'].mean())"
      ],
      "metadata": {
        "colab": {
          "base_uri": "https://localhost:8080/"
        },
        "outputId": "94fd7080-0e20-4aff-eba9-77d5a25da7ff",
        "id": "VpVFP6XClJDF"
      },
      "execution_count": null,
      "outputs": [
        {
          "output_type": "stream",
          "name": "stdout",
          "text": [
            "Churn\n",
            "False    200.133193\n",
            "True     205.231677\n",
            "Name: Total night minutes, dtype: float64\n"
          ]
        }
      ]
    },
    {
      "cell_type": "code",
      "source": [
        "# boxplot of Total night minutes vs churn\n",
        "\n",
        "df.boxplot(column='Total night minutes',by='Churn')"
      ],
      "metadata": {
        "colab": {
          "base_uri": "https://localhost:8080/",
          "height": 373
        },
        "outputId": "2a8a1d05-5503-4b5c-94e5-b342679e98b0",
        "id": "vWtUL0t-lJDG"
      },
      "execution_count": null,
      "outputs": [
        {
          "output_type": "stream",
          "name": "stderr",
          "text": [
            "/usr/local/lib/python3.7/dist-packages/matplotlib/cbook/__init__.py:1376: VisibleDeprecationWarning: Creating an ndarray from ragged nested sequences (which is a list-or-tuple of lists-or-tuples-or ndarrays with different lengths or shapes) is deprecated. If you meant to do this, you must specify 'dtype=object' when creating the ndarray.\n",
            "  X = np.atleast_1d(X.T if isinstance(X, np.ndarray) else np.asarray(X))\n"
          ]
        },
        {
          "output_type": "execute_result",
          "data": {
            "text/plain": [
              "<matplotlib.axes._subplots.AxesSubplot at 0x7fedd2f91490>"
            ]
          },
          "metadata": {},
          "execution_count": 26
        },
        {
          "output_type": "display_data",
          "data": {
            "text/plain": [
              "<Figure size 432x288 with 1 Axes>"
            ],
            "image/png": "[encoded data removed]"
          },
          "metadata": {
            "needs_background": "light"
          }
        }
      ]
    },
    {
      "cell_type": "code",
      "source": [
        "# boxplot of Total night calls vs churn\n",
        "\n",
        "df.boxplot(column='Total night calls', by='Churn')"
      ],
      "metadata": {
        "colab": {
          "base_uri": "https://localhost:8080/",
          "height": 373
        },
        "id": "26WlPWfVclfm",
        "outputId": "8b6a7c9f-5346-4525-f813-7025fc219b2a"
      },
      "execution_count": null,
      "outputs": [
        {
          "output_type": "stream",
          "name": "stderr",
          "text": [
            "/usr/local/lib/python3.7/dist-packages/matplotlib/cbook/__init__.py:1376: VisibleDeprecationWarning: Creating an ndarray from ragged nested sequences (which is a list-or-tuple of lists-or-tuples-or ndarrays with different lengths or shapes) is deprecated. If you meant to do this, you must specify 'dtype=object' when creating the ndarray.\n",
            "  X = np.atleast_1d(X.T if isinstance(X, np.ndarray) else np.asarray(X))\n"
          ]
        },
        {
          "output_type": "execute_result",
          "data": {
            "text/plain": [
              "<matplotlib.axes._subplots.AxesSubplot at 0x7f6145b655d0>"
            ]
          },
          "metadata": {},
          "execution_count": 7
        },
        {
          "output_type": "display_data",
          "data": {
            "text/plain": [
              "<Figure size 432x288 with 1 Axes>"
            ],
            "image/png": "[encoded data removed]"
          },
          "metadata": {
            "needs_background": "light"
          }
        }
      ]
    },
    {
      "cell_type": "code",
      "source": [
        "# Features of Night charges\n",
        "\n",
        "print('Maximum number of charge:',df['Total night charge'].max())\n",
        "print('Minimum number of charge:',df['Total night charge'].min())\n",
        "print('Average number of charge:',df['Total night charge'].mean())"
      ],
      "metadata": {
        "colab": {
          "base_uri": "https://localhost:8080/"
        },
        "id": "7CcvS_4Rc0cH",
        "outputId": "b89fb52e-0b82-417d-d252-636f55ca742e"
      },
      "execution_count": null,
      "outputs": [
        {
          "output_type": "stream",
          "name": "stdout",
          "text": [
            "Maximum number of charge: 17.77\n",
            "Minimum number of charge: 1.04\n",
            "Average number of charge: 9.039324932493264\n"
          ]
        }
      ]
    },
    {
      "cell_type": "code",
      "source": [
        "# boxplot of Total eve charge vs churn\n",
        "\n",
        "df.boxplot(column='Total night charge',by=\"Churn\")"
      ],
      "metadata": {
        "colab": {
          "base_uri": "https://localhost:8080/",
          "height": 373
        },
        "outputId": "de51a062-0186-44c6-88ee-fb502ae881da",
        "id": "HKTeH8unlJDI"
      },
      "execution_count": null,
      "outputs": [
        {
          "output_type": "stream",
          "name": "stderr",
          "text": [
            "/usr/local/lib/python3.7/dist-packages/matplotlib/cbook/__init__.py:1376: VisibleDeprecationWarning: Creating an ndarray from ragged nested sequences (which is a list-or-tuple of lists-or-tuples-or ndarrays with different lengths or shapes) is deprecated. If you meant to do this, you must specify 'dtype=object' when creating the ndarray.\n",
            "  X = np.atleast_1d(X.T if isinstance(X, np.ndarray) else np.asarray(X))\n"
          ]
        },
        {
          "output_type": "execute_result",
          "data": {
            "text/plain": [
              "<matplotlib.axes._subplots.AxesSubplot at 0x7f614380f5d0>"
            ]
          },
          "metadata": {},
          "execution_count": 10
        },
        {
          "output_type": "display_data",
          "data": {
            "text/plain": [
              "<Figure size 432x288 with 1 Axes>"
            ],
            "image/png": "[encoded data removed]"
          },
          "metadata": {
            "needs_background": "light"
          }
        }
      ]
    },
    {
      "cell_type": "code",
      "source": [
        "# Show relation using scatterplot\n",
        "\n",
        "plt.figure(figsize=(15,8))\n",
        "sns.scatterplot(x='Total night minutes',y='Total night charge',hue='Churn',data=df)"
      ],
      "metadata": {
        "colab": {
          "base_uri": "https://localhost:8080/",
          "height": 540
        },
        "id": "gj8byklO4FoD",
        "outputId": "009fce60-9cdd-4f93-dd0d-4053c29f2766"
      },
      "execution_count": null,
      "outputs": [
        {
          "output_type": "execute_result",
          "data": {
            "text/plain": [
              "<matplotlib.axes._subplots.AxesSubplot at 0x7fb422846090>"
            ]
          },
          "metadata": {},
          "execution_count": 40
        },
        {
          "output_type": "display_data",
          "data": {
            "text/plain": [
              "<Figure size 1080x576 with 1 Axes>"
            ],
            "image/png": "[encoded data removed]"
          },
          "metadata": {}
        }
      ]
    },
    {
      "cell_type": "markdown",
      "source": [
        "**Inference :-**\n",
        "\n",
        "Here, the number of night calls,minutes and charge seems to have little to no impact on the number of churn."
      ],
      "metadata": {
        "id": "zNMrmMDHBf7J"
      }
    }
  ]
}